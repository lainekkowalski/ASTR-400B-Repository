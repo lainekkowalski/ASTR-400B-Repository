{
 "cells": [
  {
   "cell_type": "code",
   "execution_count": 1,
   "id": "169987b5",
   "metadata": {},
   "outputs": [],
   "source": [
    "#This is on my Desktop/ASTR-400B-Repository\n",
    "\n",
    "import numpy as np\n",
    "import astropy.units as u\n",
    "\n",
    "def Read(filename):\n",
    "    #Reading the first line\n",
    "    file = open(filename,'r')\n",
    "    line1 = file.readline()\n",
    "    label,value = line1.split()\n",
    "    time = float(value)*u.Myr\n",
    "    \n",
    "    #Reading the second line\n",
    "    line2 = file.readline()\n",
    "    label,value = line2.split()\n",
    "    particle_num = int(value) #no units here\n",
    "    \n",
    "    file.close()\n",
    "    \n",
    "    data = np.genfromtxt(filename,dtype=None,names=True,skip_header=3) #creates an array from the text file\n",
    "    \n",
    "    return time, particle_num, data"
   ]
  },
  {
   "cell_type": "code",
   "execution_count": 2,
   "id": "bc33c1b1",
   "metadata": {},
   "outputs": [],
   "source": [
    "#This returns time, particle_num, data\n",
    "time, particle_num, data = Read(\"MW_000.txt\")"
   ]
  },
  {
   "cell_type": "code",
   "execution_count": 6,
   "id": "1ab3b710",
   "metadata": {},
   "outputs": [
    {
     "name": "stdout",
     "output_type": "stream",
     "text": [
      "1.0\n",
      "-286.601\n",
      "-59.8463\n",
      "0.0 Myr\n",
      "135000\n"
     ]
    }
   ],
   "source": [
    "#Testing code here:\n",
    "print(data['type'][1])\n",
    "print(data['x'][1])\n",
    "print(data['vy'][3])\n",
    "print(time)\n",
    "print(particle_num)"
   ]
  },
  {
   "cell_type": "code",
   "execution_count": null,
   "id": "87222aed",
   "metadata": {},
   "outputs": [],
   "source": []
  }
 ],
 "metadata": {
  "kernelspec": {
   "display_name": "Python 3 (ipykernel)",
   "language": "python",
   "name": "python3"
  },
  "language_info": {
   "codemirror_mode": {
    "name": "ipython",
    "version": 3
   },
   "file_extension": ".py",
   "mimetype": "text/x-python",
   "name": "python",
   "nbconvert_exporter": "python",
   "pygments_lexer": "ipython3",
   "version": "3.11.5"
  }
 },
 "nbformat": 4,
 "nbformat_minor": 5
}
