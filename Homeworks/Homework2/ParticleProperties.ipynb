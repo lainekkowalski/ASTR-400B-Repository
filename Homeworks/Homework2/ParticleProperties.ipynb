{
 "cells": [
  {
   "cell_type": "code",
   "execution_count": 22,
   "id": "fbe6e85f",
   "metadata": {},
   "outputs": [],
   "source": [
    "# This is a new function called ParticleInfo\n",
    "'''\n",
    "ParticleInfo calls in the ReadFile function to utilize the MW_000.txt data. This function selects the proper particle\n",
    "type and number within the file. It calculates, the magnitude of distance, magnitude of velocity and solar masses and \n",
    "produces the correct units. The function was checked by checking particle type 2 and 100th disk particle. \n",
    "'''\n",
    "# Inputs: name of the file; type of particle=1,2,3; particle_num (an integer)\n",
    "# Outputs: magnitude of distance (kpc); magnitude of velocity (km/s); mass(solar masses)\n",
    "\n",
    "import numpy as np\n",
    "import astropy.units as u\n",
    "\n",
    "#Importing in previous Read function\n",
    "from ReadFile import Read\n",
    "\n",
    "def ParticleInfo(filename, particle_type, particle_num):\n",
    "    #Calling/importing Read function\n",
    "    time, tot_particle_num, data = Read(filename)\n",
    "    \n",
    "    #Gives us an index object - all rows with chosen particle type\n",
    "    index = np.where(data['type']==particle_type)\n",
    "    \n",
    "    #This selects only rows with correct particle type and specific particle number, but need to subtract 1 due to indexes\n",
    "    particle_props = data[index][particle_num-1]\n",
    "    x,y,z = particle_props['x'], particle_props['y'], particle_props['z'] #This is a more readable way to calc distance\n",
    "    distance = np.sqrt(x**2 + y**2 + z**2)*u.kpc #Euclidian distance - sum of the squared distances in x,y,z directions\n",
    "    \n",
    "    #This is a more readable way to calculate the velocity, and combines vx, vy, vz by taking the magnitude of the sum of the squares\n",
    "    vx,vy,vz = particle_props['vx'], particle_props['vy'], particle_props['vz']\n",
    "    velocity = np.sqrt(vx**2 + vy**2 + vz**2)*u.km/u.s #sum of the squares of the velocities in the x,y,z directions\n",
    "    \n",
    "    #Mass here is 10^10 solar masses, so need to account for this by dividing by 10^10\n",
    "    mass = particle_props['m'] / 10**10\n",
    "    \n",
    "    #Rounding the distance and velocity to 3 decimal places\n",
    "    distance = np.around(distance,3)\n",
    "    velocity = np.around(velocity,3)\n",
    "    \n",
    "    return distance, velocity, mass"
   ]
  },
  {
   "cell_type": "code",
   "execution_count": 23,
   "id": "b52bed27",
   "metadata": {},
   "outputs": [
    {
     "data": {
      "text/plain": [
       "(<Quantity 56.274 kpc>, <Quantity 144.123 km / s>, 3.9498500000000006e-13)"
      ]
     },
     "execution_count": 23,
     "metadata": {},
     "output_type": "execute_result"
    }
   ],
   "source": [
    "#Testng first line of the file\n",
    "ParticleInfo(\"MW_000.txt\", 1, 1)"
   ]
  },
  {
   "cell_type": "code",
   "execution_count": 24,
   "id": "c6724095",
   "metadata": {},
   "outputs": [
    {
     "data": {
      "text/plain": [
       "(<Quantity 4.245 kpc>, <Quantity 312.135 km / s>, 1e-14)"
      ]
     },
     "execution_count": 24,
     "metadata": {},
     "output_type": "execute_result"
    }
   ],
   "source": [
    "#At SnapNumber 0 because file has time 0\n",
    "#Want particle type 2 and the 100th MW disk particle from the file\n",
    "ParticleInfo(\"MW_000.txt\", 2, 100)"
   ]
  },
  {
   "cell_type": "code",
   "execution_count": 26,
   "id": "7b3b4f74",
   "metadata": {},
   "outputs": [
    {
     "data": {
      "text/latex": [
       "$13845.338 \\; \\mathrm{lyr}$"
      ],
      "text/plain": [
       "<Quantity 13845.33823408 lyr>"
      ]
     },
     "execution_count": 26,
     "metadata": {},
     "output_type": "execute_result"
    }
   ],
   "source": [
    "#Converting 3D distance of particle to LYS\n",
    "#Function already rounds to 3 decimal places\n",
    "distance, velocity, mass = ParticleInfo(\"MW_000.txt\", 2, 100) #re-calling function\n",
    "distance.to(u.lightyear) #converting kpc to lys using the AstroPy to function"
   ]
  },
  {
   "cell_type": "code",
   "execution_count": null,
   "id": "ced7d70a",
   "metadata": {},
   "outputs": [],
   "source": []
  }
 ],
 "metadata": {
  "kernelspec": {
   "display_name": "Python 3 (ipykernel)",
   "language": "python",
   "name": "python3"
  },
  "language_info": {
   "codemirror_mode": {
    "name": "ipython",
    "version": 3
   },
   "file_extension": ".py",
   "mimetype": "text/x-python",
   "name": "python",
   "nbconvert_exporter": "python",
   "pygments_lexer": "ipython3",
   "version": "3.11.5"
  }
 },
 "nbformat": 4,
 "nbformat_minor": 5
}
