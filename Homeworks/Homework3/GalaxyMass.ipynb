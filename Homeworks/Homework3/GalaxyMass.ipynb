{
 "cells": [
  {
   "cell_type": "code",
   "execution_count": 26,
   "id": "b3e236bc",
   "metadata": {},
   "outputs": [],
   "source": [
    "#This imports the ReadFile program from HW2\n",
    "from ReadFile import Read\n",
    "\n",
    "\"\"\"This function returns the total mass of any desired galaxy component.\n",
    "Inputs: name of the file, particle type (1,2,3)\n",
    "Outputs: total mass of galaxy component in units of 10^12 solar masses\n",
    "\"\"\"\n",
    "\n",
    "import numpy as np\n",
    "import astropy.units as u\n",
    "\n",
    "#This function will return the total mass of any desired galaxy component\n",
    "def ComponentMass(filename, particle_type):\n",
    "    time, tot_particle_num, data = Read(filename) #reading contents of the file\n",
    "    \n",
    "    #Gives us an index object - all rows with chosen particle type\n",
    "    index = np.where(data['type']==particle_type)\n",
    "    \n",
    "    masses = data[index][\"m\"] #get's all of the mass of all of the rows for the chosen particle type\n",
    "    tot_mass = np.sum(masses) #this sums each particle of chosen type together\n",
    "    tot_mass = np.round(tot_mass/100, 3) #rounding mass to 10^12 sm\n",
    "    \n",
    "    return tot_mass"
   ]
  },
  {
   "cell_type": "code",
   "execution_count": 27,
   "id": "c4ef5e01",
   "metadata": {},
   "outputs": [
    {
     "data": {
      "text/plain": [
       "1.921"
      ]
     },
     "execution_count": 27,
     "metadata": {},
     "output_type": "execute_result"
    }
   ],
   "source": [
    "ComponentMass(\"M31_000.txt\", 1) #calling halo type particles in M31, types have same masses\n",
    "#mass in units of 10^12 solar masses"
   ]
  },
  {
   "cell_type": "code",
   "execution_count": 28,
   "id": "3997a57b",
   "metadata": {},
   "outputs": [],
   "source": [
    "import pandas as pd"
   ]
  },
  {
   "cell_type": "code",
   "execution_count": 38,
   "id": "85b783da",
   "metadata": {},
   "outputs": [],
   "source": [
    "#Retrieving the total mass of each of the galaxys' components\n",
    "MW_1 = ComponentMass(\"MW_000.txt\", 1) #Halo particles total mass for MW\n",
    "MW_2 = ComponentMass(\"MW_000.txt\", 2) #Disk particles total mass for MW\n",
    "MW_3 = ComponentMass(\"MW_000.txt\", 3) #Bulge particles total mass for MW\n",
    "M31_1 = ComponentMass(\"M31_000.txt\", 1) #Halo particles total mass for M31\n",
    "M31_2 = ComponentMass(\"M31_000.txt\", 2) #Disk particles total mass for M31\n",
    "M31_3 = ComponentMass(\"M31_000.txt\", 3) #Bulge particles total mass for M31\n",
    "M33_1 = ComponentMass(\"M33_000.txt\", 1) #Halo particles total mass for M33\n",
    "M33_2 = ComponentMass(\"M33_000.txt\", 2) #Disk particles total mass for M33\n",
    "\n",
    "f_bar_MW = (MW_2+MW_3) / (MW_1+MW_2+MW_3) #computing baryon fraction for the MW\n",
    "f_bar_M31 = (M31_2+M31_3) / (M31_1+M31_2+M31_3) #computing baryon fraction for M31\n",
    "f_bar_M33 = (M33_2) / (M33_1+M33_2) #computing baryon fraction for M33\n",
    "\n",
    "#Calculating the total stellar mass and the total mass including dark matter\n",
    "totStellarMass = (MW_2+MW_3+M31_2+M31_3+M33_2) \n",
    "totMass = MW_1+MW_2+MW_3+M31_1+M31_2+M31_3+M33_1+M33_2"
   ]
  },
  {
   "cell_type": "code",
   "execution_count": 39,
   "id": "38c0198c",
   "metadata": {},
   "outputs": [],
   "source": [
    "#This creates the table that shows the masses of the different galaxys' components and their totals\n",
    "table = {\n",
    "    \"Galaxy Name\": [\"MW\", \"M31\", \"M33\", \"Totals\"], \n",
    "    \"Halo Mass (10^12 solmasses)\": [MW_1, M31_1, M33_1, MW_1+M31_1+M33_1],\n",
    "    \"Disk Mass (10^12 solmasses)\": [MW_2, M31_2, M33_2, MW_2+M31_2+M33_2],\n",
    "    \"Bulge Mass (10^12 solmasses)\":[MW_3, M31_3, 0, MW_3+M31_3], \n",
    "    \"Total Mass (10^12 solmasses)\": [MW_1+MW_2+MW_3, M31_1+M31_2+M31_3, M33_1+M33_2, (MW_1+MW_2+MW_3+M31_1+M31_2+M31_3+M33_1+M33_2)],\n",
    "    \"f_bar\": [f_bar_MW, f_bar_M31, f_bar_M33, totStellarMass/totMass]}"
   ]
  },
  {
   "cell_type": "code",
   "execution_count": 40,
   "id": "8b62d079",
   "metadata": {},
   "outputs": [
    {
     "data": {
      "text/html": [
       "<div>\n",
       "<style scoped>\n",
       "    .dataframe tbody tr th:only-of-type {\n",
       "        vertical-align: middle;\n",
       "    }\n",
       "\n",
       "    .dataframe tbody tr th {\n",
       "        vertical-align: top;\n",
       "    }\n",
       "\n",
       "    .dataframe thead th {\n",
       "        text-align: right;\n",
       "    }\n",
       "</style>\n",
       "<table border=\"1\" class=\"dataframe\">\n",
       "  <thead>\n",
       "    <tr style=\"text-align: right;\">\n",
       "      <th></th>\n",
       "      <th>Galaxy Name</th>\n",
       "      <th>Halo Mass (10^12 solmasses)</th>\n",
       "      <th>Disk Mass (10^12 solmasses)</th>\n",
       "      <th>Bulge Mass (10^12 solmasses)</th>\n",
       "      <th>Total Mass (10^12 solmasses)</th>\n",
       "      <th>f_bar</th>\n",
       "    </tr>\n",
       "  </thead>\n",
       "  <tbody>\n",
       "    <tr>\n",
       "      <th>0</th>\n",
       "      <td>MW</td>\n",
       "      <td>1.975</td>\n",
       "      <td>0.075</td>\n",
       "      <td>0.010</td>\n",
       "      <td>2.060</td>\n",
       "      <td>0.041262</td>\n",
       "    </tr>\n",
       "    <tr>\n",
       "      <th>1</th>\n",
       "      <td>M31</td>\n",
       "      <td>1.921</td>\n",
       "      <td>0.120</td>\n",
       "      <td>0.019</td>\n",
       "      <td>2.060</td>\n",
       "      <td>0.067476</td>\n",
       "    </tr>\n",
       "    <tr>\n",
       "      <th>2</th>\n",
       "      <td>M33</td>\n",
       "      <td>0.187</td>\n",
       "      <td>0.009</td>\n",
       "      <td>0.000</td>\n",
       "      <td>0.196</td>\n",
       "      <td>0.045918</td>\n",
       "    </tr>\n",
       "    <tr>\n",
       "      <th>3</th>\n",
       "      <td>Totals</td>\n",
       "      <td>4.083</td>\n",
       "      <td>0.204</td>\n",
       "      <td>0.029</td>\n",
       "      <td>4.316</td>\n",
       "      <td>0.053985</td>\n",
       "    </tr>\n",
       "  </tbody>\n",
       "</table>\n",
       "</div>"
      ],
      "text/plain": [
       "  Galaxy Name  Halo Mass (10^12 solmasses)  Disk Mass (10^12 solmasses)  \\\n",
       "0          MW                        1.975                        0.075   \n",
       "1         M31                        1.921                        0.120   \n",
       "2         M33                        0.187                        0.009   \n",
       "3      Totals                        4.083                        0.204   \n",
       "\n",
       "   Bulge Mass (10^12 solmasses)  Total Mass (10^12 solmasses)     f_bar  \n",
       "0                         0.010                         2.060  0.041262  \n",
       "1                         0.019                         2.060  0.067476  \n",
       "2                         0.000                         0.196  0.045918  \n",
       "3                         0.029                         4.316  0.053985  "
      ]
     },
     "execution_count": 40,
     "metadata": {},
     "output_type": "execute_result"
    }
   ],
   "source": [
    "pd.DataFrame(table) #This physically creates the table"
   ]
  },
  {
   "cell_type": "code",
   "execution_count": 41,
   "id": "8cf05783",
   "metadata": {},
   "outputs": [
    {
     "name": "stdout",
     "output_type": "stream",
     "text": [
      "1.028110359187923\n"
     ]
    }
   ],
   "source": [
    "#Part 4 Questions:\n",
    "\n",
    "'''1. How does the total mass of the MW and M31 compare in this simulation? What galaxy component dominates \n",
    "this total mass?\n",
    "\n",
    "    The total mass of the MW and M31 are the same at 2.060x10^12 solar masses. They are the same because \n",
    "    the MW dominates due to its size.\n",
    "'''\n",
    "\n",
    "\n",
    "'''2. How does the stellar mass of the MW and M31 compare? Which galaxy do you expect to be more luminous?\n",
    "\n",
    "    The stellar mass of the MW = 0.075x10^12 +0.010x10^12 = 0.085x10^12 solar masses. The stellar mass of \n",
    "    M31 = 0.120x10^12 +0.019x10^12 = 0.139x10^12 solar masses. Even though the MilkyWay dominates in terms of mass\n",
    "    the M31 galaxy will be much more luminous because it contains more stellar matter and less dark matter than the MW.\n",
    "'''\n",
    "\n",
    "\n",
    "'''\n",
    "3. How does the total dark matter mass of MW and M31 compare in this simulation (ratio)? Is this surprising, \n",
    "given their difference in stellar mass?\n",
    "\n",
    "    The dark matter mass of MW is 1.028x (2.8%) larger than the dark matter mass of M31. It is not surprising that \n",
    "    the dark matter component dominates in both cases as galaxies typically contain more dark matter anyway. The very small\n",
    "    fraction of stellar matter in each case can be very different from each other because they are both still small\n",
    "    components of the total.\n",
    "'''\n",
    "dark_matter_ratio = 1.975 / 1.921\n",
    "print(dark_matter_ratio)\n",
    "#Answer = 1.028\n",
    "\n",
    "'''\n",
    "4. What is the ratio of stellar mass to total mass for each galaxy (i.e. the Baryon fraction)? In the Universe, \n",
    "Ωb/Ωm ∼16% of all mass is locked up in baryons (gas & stars) vs. dark matter. How does this ratio compare to the \n",
    "baryon fraction you computed for each galaxy? Given that the total gas mass in the disks of these galaxies is \n",
    "negligible compared to the stellar mass, any ideas for why the universal baryon fraction might differ from that \n",
    "in these galaxies?\n",
    "\n",
    "    The baryon fractions calculated in the table were as follows: f_bar_MW = 0.041262 (4.1%); f_bar_M31 = 0.067476 (6.7%);\n",
    "    f_bar_M33 = 0.045918 (4.6%). This fraction ~16% is not represented in galaxies because there is still a significant\n",
    "    amount of baryon matter outside of the galaxies, such as in nebulae/gas/dust... Galaxies also include less of a \n",
    "    stellar mass ratio (lower f_bar) than compared to the rest of the universe due to the way they form. Dark matter\n",
    "    constitutes more of a galaxy compared to the rest of the universe.\n",
    "'''"
   ]
  },
  {
   "cell_type": "code",
   "execution_count": null,
   "id": "46570776",
   "metadata": {},
   "outputs": [],
   "source": []
  }
 ],
 "metadata": {
  "kernelspec": {
   "display_name": "Python 3 (ipykernel)",
   "language": "python",
   "name": "python3"
  },
  "language_info": {
   "codemirror_mode": {
    "name": "ipython",
    "version": 3
   },
   "file_extension": ".py",
   "mimetype": "text/x-python",
   "name": "python",
   "nbconvert_exporter": "python",
   "pygments_lexer": "ipython3",
   "version": "3.11.5"
  }
 },
 "nbformat": 4,
 "nbformat_minor": 5
}
