{
 "cells": [
  {
   "cell_type": "code",
   "execution_count": 64,
   "id": "4bdcd1f8",
   "metadata": {},
   "outputs": [],
   "source": [
    "#This imports all past files and functions\n",
    "import numpy as np\n",
    "import astropy.units as u\n",
    "import astropy.table as tbl\n",
    "from ReadFile import Read\n",
    "from CenterOfMass import CenterOfMass\n",
    "from astropy.constants import G"
   ]
  },
  {
   "cell_type": "code",
   "execution_count": 74,
   "id": "02958704",
   "metadata": {},
   "outputs": [],
   "source": [
    "class MassProfile():\n",
    "    ''' Class to calculate the Mass Profile. \n",
    "            \n",
    "            PARAMETERS\n",
    "            ----------\n",
    "            galaxy: 'str'\n",
    "                the galaxy\n",
    "            snap: 'int'\n",
    "                the SnapNumber\n",
    "        '''\n",
    "    def __init__(self, galaxy, snap):\n",
    "        ''' Function to reconstruct the filenames \n",
    "        Inputs: galaxy: 'str'\n",
    "                    the galaxy\n",
    "                snap: 'int'\n",
    "                    the SnapNumber\n",
    "        '''\n",
    "        #Inputs to reconstruct the filenames\n",
    "        # add a string of the filenumber to the value “000” \n",
    "        ilbl = '000' + str(snap)\n",
    "        # remove all but the last 3 digits\n",
    "        ilbl = ilbl[-3:]\n",
    "        self.filename=\"%s_\"%(galaxy) + ilbl + '.txt'\n",
    "        \n",
    "        # read data in the given file using Read\n",
    "        self.time, self.total, self.data = Read(self.filename)\n",
    "        self.gname = galaxy\n",
    "    \n",
    "    \n",
    "    \n",
    "    def MassEnclosed(self, ptype, radii):\n",
    "        ''' Function to compute mass enclosed within a given radius of COM position for galaxy/component \n",
    "        Inputs: galaxy: 'str'\n",
    "                    the galaxy\n",
    "                snap: 'int'\n",
    "                    the SnapNumber\n",
    "        '''\n",
    "        radii = radii*u.kpc\n",
    "        #Calculating center of mass here\n",
    "        COM = CenterOfMass(self.filename, 2) #use disk particles always for CM\n",
    "        p_COM = COM.COM_P(delta=0.1) #Calling function from COM notebook\n",
    "        \n",
    "        #create an array to store indexes of particles of desired Ptype                                \n",
    "        index1 = np.where(self.data['type'] == ptype) #created variable only for ptype data\n",
    "        ptype_data = self.data[index1] \n",
    "        \n",
    "        #right length\n",
    "        masses = np.zeros(len(radii))\n",
    "        #looping through array, want index and positions, so:\n",
    "        for i, radius in enumerate(radii):\n",
    "            #Distances squared - finding all particles inside the \n",
    "            #radius by subtracting each particle's position from the COM and finding that distance\n",
    "            index2 = np.where(np.sqrt((ptype_data['x']*u.kpc-p_COM[0])**2 + (ptype_data['y']*u.kpc-p_COM[1])**2 + (ptype_data['z']*u.kpc-p_COM[2])**2) < radius)\n",
    "            data_rad = ptype_data[index2] \n",
    "            \n",
    "            #sum of all masses of the particle type inside a certain r\n",
    "            mass = np.sum(data_rad['m'])\n",
    "            masses[i] = mass #filling out the masses array\n",
    "            \n",
    "        return masses*1e10*u.Msun\n",
    "    \n",
    "    \n",
    "    \n",
    "    def MassEnclosedTotal(self, radii):\n",
    "        ''' Function to compute total mass enlosed in a given radii\n",
    "        Inputs: radii (kpc)\n",
    "        Outputs: total masses of particle types - masses_bulge+masses_disk+masses_halo\n",
    "        '''\n",
    "        \n",
    "        #creating a 0 array for bulge and as long as not M33, it is filled out\n",
    "        masses_bulge = np.zeros(len(radii))\n",
    "        \n",
    "        if self.gname != \"M33\": \n",
    "            masses_bulge = self.MassEnclosed(3,radii)\n",
    "            \n",
    "        masses_disk = self.MassEnclosed(2,radii)\n",
    "        masses_halo = self.MassEnclosed(1,radii) #dark matter\n",
    "        \n",
    "        #adding up all the masses\n",
    "        tot_mass = masses_bulge + masses_disk + masses_halo\n",
    "        \n",
    "        return tot_mass\n",
    "    \n",
    "    \n",
    "    \n",
    "    def HernquistMass(self, radius, a, Mhalo):\n",
    "        ''' Function to compute the theoretical (Hernquist) mass profile\n",
    "        Inputs: radius (kpc), scale factor=a, halo mass (Msun)\n",
    "        Outputs: density\n",
    "        '''\n",
    "        M = Mhalo*radius**2 / (a+radius)**2\n",
    "        rho = M*a / (2*np.pi*radius) / (radius + a)**3\n",
    "    \n",
    "        return rho*u.Msun\n",
    "        \n",
    "        \n",
    "    def CircularVelocity(self, ptype, radii):\n",
    "        ''' Function to compute the circular speed using the mass enclosed at each radius\n",
    "            **assume spherical symmetry\n",
    "        Inputs: ptype=1,2,3, radii array\n",
    "        Outputs: circular speeds (km/s)\n",
    "        '''\n",
    "        masses = self.MassEnclosed(ptype, radii)\n",
    "        \n",
    "        #gravitational constant\n",
    "        grav_const = G.to(u.kpc*u.km**2/u.s**2/u.Msun)\n",
    "        \n",
    "        #getting radius into correct units\n",
    "        radii = radii*u.kpc\n",
    "            \n",
    "        #This is element-by-element division - each mass gets divided by its corresponding radii\n",
    "        v = np.sqrt(grav_const*masses/radii)\n",
    "        \n",
    "        #setting law of gravitation equal to circular force\n",
    "        \n",
    "        return v"
   ]
  },
  {
   "cell_type": "code",
   "execution_count": 75,
   "id": "02c988ec",
   "metadata": {},
   "outputs": [
    {
     "data": {
      "text/latex": [
       "$[0,~1.263952 \\times 10^{9},~4.5423275 \\times 10^{9},~9.2031505 \\times 10^{9},~1.6036391 \\times 10^{10},~2.36991 \\times 10^{10},~3.1480304 \\times 10^{10},~4.0762452 \\times 10^{10},~5.2690999 \\times 10^{10},~6.3474089 \\times 10^{10},~7.5758123 \\times 10^{10},~8.8239649 \\times 10^{10},~1.0238011 \\times 10^{11},~1.1565161 \\times 10^{11},~1.2987107 \\times 10^{11},~1.4416952 \\times 10^{11},~1.5894196 \\times 10^{11},~1.7347741 \\times 10^{11},~1.8556395 \\times 10^{11},~1.9875645 \\times 10^{11},~2.1265992 \\times 10^{11}] \\; \\mathrm{M_{\\odot}}$"
      ],
      "text/plain": [
       "<Quantity [0.00000000e+00, 1.26395200e+09, 4.54232750e+09, 9.20315050e+09,\n",
       "           1.60363910e+10, 2.36991000e+10, 3.14803045e+10, 4.07624520e+10,\n",
       "           5.26909990e+10, 6.34740895e+10, 7.57581230e+10, 8.82396490e+10,\n",
       "           1.02380112e+11, 1.15651608e+11, 1.29871068e+11, 1.44169525e+11,\n",
       "           1.58941964e+11, 1.73477412e+11, 1.85563953e+11, 1.98756452e+11,\n",
       "           2.12659924e+11] solMass>"
      ]
     },
     "execution_count": 75,
     "metadata": {},
     "output_type": "execute_result"
    }
   ],
   "source": [
    "#Testing the code in above cell\n",
    "MW = MassProfile(\"MW\", 0) # initialize the MassProfile class for MW\n",
    "r = np.arange(0.25, 30.5, 1.5); # create an array of radii as the input\n",
    "MW.MassEnclosed(1, r) # get the enclosed halo masses at each element in 'r'\n",
    "\n",
    "#makes sense - 0 mass as r=0\n",
    "#numbers match example check closely!"
   ]
  },
  {
   "cell_type": "code",
   "execution_count": 76,
   "id": "4eb066e8",
   "metadata": {},
   "outputs": [
    {
     "data": {
      "text/latex": [
       "$[117.02188,~216.68809,~199.17746,~184.43722,~172.89421,~163.13991,~155.2972,~149.29016,~144.13782,~139.77074,~135.50941,~131.68636,~127.96417,~124.33825,~120.82562,~117.46289,~114.28065,~111.27878,~108.39572,~105.69869,~103.19571] \\; \\mathrm{\\frac{km}{s}}$"
      ],
      "text/plain": [
       "<Quantity [117.02188081, 216.68808978, 199.17746082, 184.43721563,\n",
       "           172.89420825, 163.13991242, 155.29719647, 149.2901649 ,\n",
       "           144.13782478, 139.7707445 , 135.50941494, 131.68636388,\n",
       "           127.96417193, 124.33825236, 120.82562305, 117.46289479,\n",
       "           114.28065381, 111.2787813 , 108.39572172, 105.69868636,\n",
       "           103.19571463] km / s>"
      ]
     },
     "execution_count": 76,
     "metadata": {},
     "output_type": "execute_result"
    }
   ],
   "source": [
    "#Calling circular velocity function for disk particles within a given radius\n",
    "MW.CircularVelocity(2,r)"
   ]
  },
  {
   "cell_type": "code",
   "execution_count": null,
   "id": "6d716067",
   "metadata": {},
   "outputs": [],
   "source": []
  }
 ],
 "metadata": {
  "kernelspec": {
   "display_name": "Python 3 (ipykernel)",
   "language": "python",
   "name": "python3"
  },
  "language_info": {
   "codemirror_mode": {
    "name": "ipython",
    "version": 3
   },
   "file_extension": ".py",
   "mimetype": "text/x-python",
   "name": "python",
   "nbconvert_exporter": "python",
   "pygments_lexer": "ipython3",
   "version": "3.11.5"
  }
 },
 "nbformat": 4,
 "nbformat_minor": 5
}
